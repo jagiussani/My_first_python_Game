{
 "cells": [
  {
   "cell_type": "code",
   "execution_count": 18,
   "id": "2e9c1cb5",
   "metadata": {},
   "outputs": [],
   "source": [
    "# Packages we need\n",
    "import random"
   ]
  },
  {
   "cell_type": "code",
   "execution_count": 19,
   "id": "e895371a",
   "metadata": {},
   "outputs": [
    {
     "name": "stdout",
     "output_type": "stream",
     "text": [
      "Enter your choice (rock, paper, scissors): rock\n",
      "\n",
      "You chose rock, computer chose rock.\n",
      "\n",
      "It is a Tie!\n",
      "Play again? (y/n): n\n"
     ]
    }
   ],
   "source": [
    "# We will use a while loop in order to play as many rounds that we want\n",
    "while True:\n",
    "    user_action = input(\"Enter your choice (rock, paper, scissors): \")\n",
    "    possible_actions = [\"rock\", \"paper\", \"scissors\"]\n",
    "    computer_action = random.choice(possible_actions)\n",
    "    print(f\"\\nYou chose {user_action}, computer chose {computer_action}.\\n\")\n",
    "    \n",
    "    if user_action == computer_action:\n",
    "        print(\"It is a Tie!\")\n",
    "    elif user_action == \"rock\":\n",
    "        if computer_action == \"scissors\":\n",
    "            print(\"You win! Rock trumps scissors\")\n",
    "    elif user_action == \"paper\":\n",
    "        if computer_action == \"scissors\":\n",
    "            print(\"You lost! Scissors trumps paper\")\n",
    "    elif user_action == \"scissors\":\n",
    "        if computer_action == \"paper\":\n",
    "            print(\"You win! Scissors trumps paper\")\n",
    "    elif user_action == \"rock\":\n",
    "        if computer_action == \"paper\":\n",
    "            print(\"You lost! Paper trumps rock\")\n",
    "    elif user_action == \"paper\":\n",
    "        if computer_action == \"rock\":\n",
    "            print(\"You win! Paper trumps rock\")\n",
    "    elif user_action == \"scissors\":\n",
    "        if computer_action == \"rock\":\n",
    "            print(\"You lost! Rock trumps scissors\")\n",
    "    \n",
    "    play_again = input(\"Play again? (y/n): \")\n",
    "    if play_again.lower() != \"y\":\n",
    "        break"
   ]
  },
  {
   "cell_type": "code",
   "execution_count": null,
   "id": "eb1ebb6b",
   "metadata": {},
   "outputs": [],
   "source": []
  }
 ],
 "metadata": {
  "kernelspec": {
   "display_name": "Python 3 (ipykernel)",
   "language": "python",
   "name": "python3"
  },
  "language_info": {
   "codemirror_mode": {
    "name": "ipython",
    "version": 3
   },
   "file_extension": ".py",
   "mimetype": "text/x-python",
   "name": "python",
   "nbconvert_exporter": "python",
   "pygments_lexer": "ipython3",
   "version": "3.9.13"
  }
 },
 "nbformat": 4,
 "nbformat_minor": 5
}
